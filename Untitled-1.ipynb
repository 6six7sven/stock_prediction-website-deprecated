{
    "cells": [
        {
            "cell_type": "code",
            "execution_count": 6,
            "source": [
                "import math \r\n",
                "import pandas_datareader as web\r\n",
                "import numpy as np\r\n",
                "import pandas as pd \r\n",
                "from sklearn.preprocessing import MinMaxScaler\r\n",
                "from sklearn.preprocessing import MaxAbsScaler\r\n",
                "from keras.models import Sequential\r\n",
                "from keras.layers import Dense, LSTM\r\n",
                "import matplotlib.pyplot as plt\r\n",
                "\r\n",
                "plt.style.use('fivethirtyeight')\r\n",
                "\r\n",
                "df=web.DataReader('TSLA', data_source='yahoo', start='2015-01-01', end= '2021-10-17')\r\n",
                "df"
            ],
            "outputs": [
                {
                    "output_type": "execute_result",
                    "data": {
                        "text/plain": [
                            "                  High         Low        Open       Close      Volume  \\\n",
                            "Date                                                                     \n",
                            "2014-12-31   45.136002   44.450001   44.618000   44.481998  11487500.0   \n",
                            "2015-01-02   44.650002   42.652000   44.574001   43.862000  23822000.0   \n",
                            "2015-01-05   43.299999   41.431999   42.910000   42.018002  26842500.0   \n",
                            "2015-01-06   42.840000   40.841999   42.012001   42.256001  31309500.0   \n",
                            "2015-01-07   42.956001   41.956001   42.669998   42.189999  14842000.0   \n",
                            "...                ...         ...         ...         ...         ...   \n",
                            "2021-10-11  801.239990  785.500000  787.650024  791.940002  14200300.0   \n",
                            "2021-10-12  812.320007  796.570007  800.929993  805.719971  22020000.0   \n",
                            "2021-10-13  815.409973  805.780029  810.469971  811.080017  14120100.0   \n",
                            "2021-10-14  820.250000  813.349976  815.489990  818.320007  12247200.0   \n",
                            "2021-10-15  843.210022  822.349976  823.739990  843.030029  18818000.0   \n",
                            "\n",
                            "             Adj Close  \n",
                            "Date                    \n",
                            "2014-12-31   44.481998  \n",
                            "2015-01-02   43.862000  \n",
                            "2015-01-05   42.018002  \n",
                            "2015-01-06   42.256001  \n",
                            "2015-01-07   42.189999  \n",
                            "...                ...  \n",
                            "2021-10-11  791.940002  \n",
                            "2021-10-12  805.719971  \n",
                            "2021-10-13  811.080017  \n",
                            "2021-10-14  818.320007  \n",
                            "2021-10-15  843.030029  \n",
                            "\n",
                            "[1711 rows x 6 columns]"
                        ],
                        "text/html": [
                            "<div>\n",
                            "<style scoped>\n",
                            "    .dataframe tbody tr th:only-of-type {\n",
                            "        vertical-align: middle;\n",
                            "    }\n",
                            "\n",
                            "    .dataframe tbody tr th {\n",
                            "        vertical-align: top;\n",
                            "    }\n",
                            "\n",
                            "    .dataframe thead th {\n",
                            "        text-align: right;\n",
                            "    }\n",
                            "</style>\n",
                            "<table border=\"1\" class=\"dataframe\">\n",
                            "  <thead>\n",
                            "    <tr style=\"text-align: right;\">\n",
                            "      <th></th>\n",
                            "      <th>High</th>\n",
                            "      <th>Low</th>\n",
                            "      <th>Open</th>\n",
                            "      <th>Close</th>\n",
                            "      <th>Volume</th>\n",
                            "      <th>Adj Close</th>\n",
                            "    </tr>\n",
                            "    <tr>\n",
                            "      <th>Date</th>\n",
                            "      <th></th>\n",
                            "      <th></th>\n",
                            "      <th></th>\n",
                            "      <th></th>\n",
                            "      <th></th>\n",
                            "      <th></th>\n",
                            "    </tr>\n",
                            "  </thead>\n",
                            "  <tbody>\n",
                            "    <tr>\n",
                            "      <th>2014-12-31</th>\n",
                            "      <td>45.136002</td>\n",
                            "      <td>44.450001</td>\n",
                            "      <td>44.618000</td>\n",
                            "      <td>44.481998</td>\n",
                            "      <td>11487500.0</td>\n",
                            "      <td>44.481998</td>\n",
                            "    </tr>\n",
                            "    <tr>\n",
                            "      <th>2015-01-02</th>\n",
                            "      <td>44.650002</td>\n",
                            "      <td>42.652000</td>\n",
                            "      <td>44.574001</td>\n",
                            "      <td>43.862000</td>\n",
                            "      <td>23822000.0</td>\n",
                            "      <td>43.862000</td>\n",
                            "    </tr>\n",
                            "    <tr>\n",
                            "      <th>2015-01-05</th>\n",
                            "      <td>43.299999</td>\n",
                            "      <td>41.431999</td>\n",
                            "      <td>42.910000</td>\n",
                            "      <td>42.018002</td>\n",
                            "      <td>26842500.0</td>\n",
                            "      <td>42.018002</td>\n",
                            "    </tr>\n",
                            "    <tr>\n",
                            "      <th>2015-01-06</th>\n",
                            "      <td>42.840000</td>\n",
                            "      <td>40.841999</td>\n",
                            "      <td>42.012001</td>\n",
                            "      <td>42.256001</td>\n",
                            "      <td>31309500.0</td>\n",
                            "      <td>42.256001</td>\n",
                            "    </tr>\n",
                            "    <tr>\n",
                            "      <th>2015-01-07</th>\n",
                            "      <td>42.956001</td>\n",
                            "      <td>41.956001</td>\n",
                            "      <td>42.669998</td>\n",
                            "      <td>42.189999</td>\n",
                            "      <td>14842000.0</td>\n",
                            "      <td>42.189999</td>\n",
                            "    </tr>\n",
                            "    <tr>\n",
                            "      <th>...</th>\n",
                            "      <td>...</td>\n",
                            "      <td>...</td>\n",
                            "      <td>...</td>\n",
                            "      <td>...</td>\n",
                            "      <td>...</td>\n",
                            "      <td>...</td>\n",
                            "    </tr>\n",
                            "    <tr>\n",
                            "      <th>2021-10-11</th>\n",
                            "      <td>801.239990</td>\n",
                            "      <td>785.500000</td>\n",
                            "      <td>787.650024</td>\n",
                            "      <td>791.940002</td>\n",
                            "      <td>14200300.0</td>\n",
                            "      <td>791.940002</td>\n",
                            "    </tr>\n",
                            "    <tr>\n",
                            "      <th>2021-10-12</th>\n",
                            "      <td>812.320007</td>\n",
                            "      <td>796.570007</td>\n",
                            "      <td>800.929993</td>\n",
                            "      <td>805.719971</td>\n",
                            "      <td>22020000.0</td>\n",
                            "      <td>805.719971</td>\n",
                            "    </tr>\n",
                            "    <tr>\n",
                            "      <th>2021-10-13</th>\n",
                            "      <td>815.409973</td>\n",
                            "      <td>805.780029</td>\n",
                            "      <td>810.469971</td>\n",
                            "      <td>811.080017</td>\n",
                            "      <td>14120100.0</td>\n",
                            "      <td>811.080017</td>\n",
                            "    </tr>\n",
                            "    <tr>\n",
                            "      <th>2021-10-14</th>\n",
                            "      <td>820.250000</td>\n",
                            "      <td>813.349976</td>\n",
                            "      <td>815.489990</td>\n",
                            "      <td>818.320007</td>\n",
                            "      <td>12247200.0</td>\n",
                            "      <td>818.320007</td>\n",
                            "    </tr>\n",
                            "    <tr>\n",
                            "      <th>2021-10-15</th>\n",
                            "      <td>843.210022</td>\n",
                            "      <td>822.349976</td>\n",
                            "      <td>823.739990</td>\n",
                            "      <td>843.030029</td>\n",
                            "      <td>18818000.0</td>\n",
                            "      <td>843.030029</td>\n",
                            "    </tr>\n",
                            "  </tbody>\n",
                            "</table>\n",
                            "<p>1711 rows × 6 columns</p>\n",
                            "</div>"
                        ]
                    },
                    "metadata": {},
                    "execution_count": 6
                }
            ],
            "metadata": {}
        },
        {
            "cell_type": "code",
            "execution_count": 7,
            "source": [
                "df.shape"
            ],
            "outputs": [
                {
                    "output_type": "execute_result",
                    "data": {
                        "text/plain": [
                            "(1711, 6)"
                        ]
                    },
                    "metadata": {},
                    "execution_count": 7
                }
            ],
            "metadata": {}
        },
        {
            "cell_type": "code",
            "execution_count": 8,
            "source": [
                "plt.figure(figsize=(16,8))\r\n",
                "plt.title('Close price history')\r\n",
                "plt.plot(df['Close'])\r\n",
                "plt.xlabel('Date')\r\n",
                "plt.ylabel('Close Price USD')"
            ],
            "outputs": [
                {
                    "output_type": "execute_result",
                    "data": {
                        "text/plain": [
                            "Text(0, 0.5, 'Close Price USD')"
                        ]
                    },
                    "metadata": {},
                    "execution_count": 8
                },
                {
                    "output_type": "display_data",
                    "data": {
                        "text/plain": [
                            "<Figure size 1152x576 with 1 Axes>"
                        ],
                        "image/png": "[encoded data removed]"
                    },
                    "metadata": {}
                }
            ],
            "metadata": {}
        },
        {
            "cell_type": "code",
            "execution_count": 11,
            "source": [
                "#data = df.filter(['close'])\r\n",
                "#df1 = df.reset_index()['close']\r\n",
                "df1 = df.filter(['close'])"
            ],
            "outputs": [],
            "metadata": {}
        },
        {
            "cell_type": "code",
            "execution_count": 12,
            "source": [
                "scaler = MinMaxScaler(feature_range=(0,1))\r\n",
                "df1 = scaler.fit_transform(np.array(df1).reshape(-1,1))"
            ],
            "outputs": [
                {
                    "output_type": "error",
                    "ename": "NameError",
                    "evalue": "name 'df1' is not defined",
                    "traceback": [
                        "\u001b[1;31m---------------------------------------------------------------------------\u001b[0m",
                        "\u001b[1;31mNameError\u001b[0m                                 Traceback (most recent call last)",
                        "Input \u001b[1;32mIn [12]\u001b[0m, in \u001b[0;36m<module>\u001b[1;34m\u001b[0m\n\u001b[0;32m      1\u001b[0m scaler \u001b[38;5;241m=\u001b[39m MinMaxScaler(feature_range\u001b[38;5;241m=\u001b[39m(\u001b[38;5;241m0\u001b[39m,\u001b[38;5;241m1\u001b[39m))\n\u001b[1;32m----> 2\u001b[0m df1 \u001b[38;5;241m=\u001b[39m scaler\u001b[38;5;241m.\u001b[39mfit_transform(np\u001b[38;5;241m.\u001b[39marray(\u001b[43mdf1\u001b[49m)\u001b[38;5;241m.\u001b[39mreshape(\u001b[38;5;241m-\u001b[39m\u001b[38;5;241m1\u001b[39m,\u001b[38;5;241m1\u001b[39m))\n",
                        "\u001b[1;31mNameError\u001b[0m: name 'df1' is not defined"
                    ]
                }
            ],
            "metadata": {}
        },
        {
            "cell_type": "code",
            "execution_count": null,
            "source": [
                "#convert dataframe to numpy array\r\n",
                "#dataset = data.values\r\n",
                "#training_data_len = math.ceil( len(dataset) * 0.65 )\r\n",
                "#training_data_len\r\n",
                "\r\n",
                "training_size = int(len(df1)*0.65)\r\n",
                "test_size = len(df1)-training_size\r\n",
                "train_data, test_data = df1[0:training_size,:], df1[training_size:len(df1),:1]"
            ],
            "outputs": [],
            "metadata": {}
        },
        {
            "cell_type": "code",
            "execution_count": null,
            "source": [
                "#scale because LSTM is a total bitch about the scale of the data\r\n",
                "#scaler = MaxAbsScaler(feature_range=(0,1))\r\n",
                "#scaled_data = scaler.fit_transform(dataset)\r\n",
                "#scaled_data"
            ],
            "outputs": [
                {
                    "output_type": "error",
                    "ename": "ValueError",
                    "evalue": "Found array with 0 feature(s) (shape=(1711, 0)) while a minimum of 1 is required by MinMaxScaler.",
                    "traceback": [
                        "\u001b[1;31m---------------------------------------------------------------------------\u001b[0m",
                        "\u001b[1;31mValueError\u001b[0m                                Traceback (most recent call last)",
                        "Input \u001b[1;32mIn [5]\u001b[0m, in \u001b[0;36m<module>\u001b[1;34m\u001b[0m\n\u001b[0;32m      2\u001b[0m scaler \u001b[38;5;241m=\u001b[39m MinMaxScaler(feature_range\u001b[38;5;241m=\u001b[39m(\u001b[38;5;241m0\u001b[39m,\u001b[38;5;241m1\u001b[39m))\n\u001b[0;32m      3\u001b[0m \u001b[38;5;66;03m#scaler = MaxAbsScaler(feature_range=(0,1))\u001b[39;00m\n\u001b[1;32m----> 4\u001b[0m scaled_data \u001b[38;5;241m=\u001b[39m \u001b[43mscaler\u001b[49m\u001b[38;5;241;43m.\u001b[39;49m\u001b[43mfit_transform\u001b[49m\u001b[43m(\u001b[49m\u001b[43mdataset\u001b[49m\u001b[43m)\u001b[49m\n\u001b[0;32m      6\u001b[0m scaled_data\n",
                        "File \u001b[1;32m~\\AppData\\Local\\Programs\\Python\\Python38\\lib\\site-packages\\sklearn\\base.py:852\u001b[0m, in \u001b[0;36mTransformerMixin.fit_transform\u001b[1;34m(self, X, y, **fit_params)\u001b[0m\n\u001b[0;32m    848\u001b[0m \u001b[38;5;66;03m# non-optimized default implementation; override when a better\u001b[39;00m\n\u001b[0;32m    849\u001b[0m \u001b[38;5;66;03m# method is possible for a given clustering algorithm\u001b[39;00m\n\u001b[0;32m    850\u001b[0m \u001b[38;5;28;01mif\u001b[39;00m y \u001b[38;5;129;01mis\u001b[39;00m \u001b[38;5;28;01mNone\u001b[39;00m:\n\u001b[0;32m    851\u001b[0m     \u001b[38;5;66;03m# fit method of arity 1 (unsupervised transformation)\u001b[39;00m\n\u001b[1;32m--> 852\u001b[0m     \u001b[38;5;28;01mreturn\u001b[39;00m \u001b[38;5;28;43mself\u001b[39;49m\u001b[38;5;241;43m.\u001b[39;49m\u001b[43mfit\u001b[49m\u001b[43m(\u001b[49m\u001b[43mX\u001b[49m\u001b[43m,\u001b[49m\u001b[43m \u001b[49m\u001b[38;5;241;43m*\u001b[39;49m\u001b[38;5;241;43m*\u001b[39;49m\u001b[43mfit_params\u001b[49m\u001b[43m)\u001b[49m\u001b[38;5;241m.\u001b[39mtransform(X)\n\u001b[0;32m    853\u001b[0m \u001b[38;5;28;01melse\u001b[39;00m:\n\u001b[0;32m    854\u001b[0m     \u001b[38;5;66;03m# fit method of arity 2 (supervised transformation)\u001b[39;00m\n\u001b[0;32m    855\u001b[0m     \u001b[38;5;28;01mreturn\u001b[39;00m \u001b[38;5;28mself\u001b[39m\u001b[38;5;241m.\u001b[39mfit(X, y, \u001b[38;5;241m*\u001b[39m\u001b[38;5;241m*\u001b[39mfit_params)\u001b[38;5;241m.\u001b[39mtransform(X)\n",
                        "File \u001b[1;32m~\\AppData\\Local\\Programs\\Python\\Python38\\lib\\site-packages\\sklearn\\preprocessing\\_data.py:416\u001b[0m, in \u001b[0;36mMinMaxScaler.fit\u001b[1;34m(self, X, y)\u001b[0m\n\u001b[0;32m    414\u001b[0m \u001b[38;5;66;03m# Reset internal state before fitting\u001b[39;00m\n\u001b[0;32m    415\u001b[0m \u001b[38;5;28mself\u001b[39m\u001b[38;5;241m.\u001b[39m_reset()\n\u001b[1;32m--> 416\u001b[0m \u001b[38;5;28;01mreturn\u001b[39;00m \u001b[38;5;28;43mself\u001b[39;49m\u001b[38;5;241;43m.\u001b[39;49m\u001b[43mpartial_fit\u001b[49m\u001b[43m(\u001b[49m\u001b[43mX\u001b[49m\u001b[43m,\u001b[49m\u001b[43m \u001b[49m\u001b[43my\u001b[49m\u001b[43m)\u001b[49m\n",
                        "File \u001b[1;32m~\\AppData\\Local\\Programs\\Python\\Python38\\lib\\site-packages\\sklearn\\preprocessing\\_data.py:453\u001b[0m, in \u001b[0;36mMinMaxScaler.partial_fit\u001b[1;34m(self, X, y)\u001b[0m\n\u001b[0;32m    447\u001b[0m     \u001b[38;5;28;01mraise\u001b[39;00m \u001b[38;5;167;01mTypeError\u001b[39;00m(\n\u001b[0;32m    448\u001b[0m         \u001b[38;5;124m\"\u001b[39m\u001b[38;5;124mMinMaxScaler does not support sparse input. \u001b[39m\u001b[38;5;124m\"\u001b[39m\n\u001b[0;32m    449\u001b[0m         \u001b[38;5;124m\"\u001b[39m\u001b[38;5;124mConsider using MaxAbsScaler instead.\u001b[39m\u001b[38;5;124m\"\u001b[39m\n\u001b[0;32m    450\u001b[0m     )\n\u001b[0;32m    452\u001b[0m first_pass \u001b[38;5;241m=\u001b[39m \u001b[38;5;129;01mnot\u001b[39;00m \u001b[38;5;28mhasattr\u001b[39m(\u001b[38;5;28mself\u001b[39m, \u001b[38;5;124m\"\u001b[39m\u001b[38;5;124mn_samples_seen_\u001b[39m\u001b[38;5;124m\"\u001b[39m)\n\u001b[1;32m--> 453\u001b[0m X \u001b[38;5;241m=\u001b[39m \u001b[38;5;28;43mself\u001b[39;49m\u001b[38;5;241;43m.\u001b[39;49m\u001b[43m_validate_data\u001b[49m\u001b[43m(\u001b[49m\n\u001b[0;32m    454\u001b[0m \u001b[43m    \u001b[49m\u001b[43mX\u001b[49m\u001b[43m,\u001b[49m\n\u001b[0;32m    455\u001b[0m \u001b[43m    \u001b[49m\u001b[43mreset\u001b[49m\u001b[38;5;241;43m=\u001b[39;49m\u001b[43mfirst_pass\u001b[49m\u001b[43m,\u001b[49m\n\u001b[0;32m    456\u001b[0m \u001b[43m    \u001b[49m\u001b[43mestimator\u001b[49m\u001b[38;5;241;43m=\u001b[39;49m\u001b[38;5;28;43mself\u001b[39;49m\u001b[43m,\u001b[49m\n\u001b[0;32m    457\u001b[0m \u001b[43m    \u001b[49m\u001b[43mdtype\u001b[49m\u001b[38;5;241;43m=\u001b[39;49m\u001b[43mFLOAT_DTYPES\u001b[49m\u001b[43m,\u001b[49m\n\u001b[0;32m    458\u001b[0m \u001b[43m    \u001b[49m\u001b[43mforce_all_finite\u001b[49m\u001b[38;5;241;43m=\u001b[39;49m\u001b[38;5;124;43m\"\u001b[39;49m\u001b[38;5;124;43mallow-nan\u001b[39;49m\u001b[38;5;124;43m\"\u001b[39;49m\u001b[43m,\u001b[49m\n\u001b[0;32m    459\u001b[0m \u001b[43m\u001b[49m\u001b[43m)\u001b[49m\n\u001b[0;32m    461\u001b[0m data_min \u001b[38;5;241m=\u001b[39m np\u001b[38;5;241m.\u001b[39mnanmin(X, axis\u001b[38;5;241m=\u001b[39m\u001b[38;5;241m0\u001b[39m)\n\u001b[0;32m    462\u001b[0m data_max \u001b[38;5;241m=\u001b[39m np\u001b[38;5;241m.\u001b[39mnanmax(X, axis\u001b[38;5;241m=\u001b[39m\u001b[38;5;241m0\u001b[39m)\n",
                        "File \u001b[1;32m~\\AppData\\Local\\Programs\\Python\\Python38\\lib\\site-packages\\sklearn\\base.py:566\u001b[0m, in \u001b[0;36mBaseEstimator._validate_data\u001b[1;34m(self, X, y, reset, validate_separately, **check_params)\u001b[0m\n\u001b[0;32m    564\u001b[0m     \u001b[38;5;28;01mraise\u001b[39;00m \u001b[38;5;167;01mValueError\u001b[39;00m(\u001b[38;5;124m\"\u001b[39m\u001b[38;5;124mValidation should be done on X, y or both.\u001b[39m\u001b[38;5;124m\"\u001b[39m)\n\u001b[0;32m    565\u001b[0m \u001b[38;5;28;01melif\u001b[39;00m \u001b[38;5;129;01mnot\u001b[39;00m no_val_X \u001b[38;5;129;01mand\u001b[39;00m no_val_y:\n\u001b[1;32m--> 566\u001b[0m     X \u001b[38;5;241m=\u001b[39m \u001b[43mcheck_array\u001b[49m\u001b[43m(\u001b[49m\u001b[43mX\u001b[49m\u001b[43m,\u001b[49m\u001b[43m \u001b[49m\u001b[38;5;241;43m*\u001b[39;49m\u001b[38;5;241;43m*\u001b[39;49m\u001b[43mcheck_params\u001b[49m\u001b[43m)\u001b[49m\n\u001b[0;32m    567\u001b[0m     out \u001b[38;5;241m=\u001b[39m X\n\u001b[0;32m    568\u001b[0m \u001b[38;5;28;01melif\u001b[39;00m no_val_X \u001b[38;5;129;01mand\u001b[39;00m \u001b[38;5;129;01mnot\u001b[39;00m no_val_y:\n",
                        "File \u001b[1;32m~\\AppData\\Local\\Programs\\Python\\Python38\\lib\\site-packages\\sklearn\\utils\\validation.py:814\u001b[0m, in \u001b[0;36mcheck_array\u001b[1;34m(array, accept_sparse, accept_large_sparse, dtype, order, copy, force_all_finite, ensure_2d, allow_nd, ensure_min_samples, ensure_min_features, estimator)\u001b[0m\n\u001b[0;32m    812\u001b[0m     n_features \u001b[38;5;241m=\u001b[39m array\u001b[38;5;241m.\u001b[39mshape[\u001b[38;5;241m1\u001b[39m]\n\u001b[0;32m    813\u001b[0m     \u001b[38;5;28;01mif\u001b[39;00m n_features \u001b[38;5;241m<\u001b[39m ensure_min_features:\n\u001b[1;32m--> 814\u001b[0m         \u001b[38;5;28;01mraise\u001b[39;00m \u001b[38;5;167;01mValueError\u001b[39;00m(\n\u001b[0;32m    815\u001b[0m             \u001b[38;5;124m\"\u001b[39m\u001b[38;5;124mFound array with \u001b[39m\u001b[38;5;132;01m%d\u001b[39;00m\u001b[38;5;124m feature(s) (shape=\u001b[39m\u001b[38;5;132;01m%s\u001b[39;00m\u001b[38;5;124m) while\u001b[39m\u001b[38;5;124m\"\u001b[39m\n\u001b[0;32m    816\u001b[0m             \u001b[38;5;124m\"\u001b[39m\u001b[38;5;124m a minimum of \u001b[39m\u001b[38;5;132;01m%d\u001b[39;00m\u001b[38;5;124m is required\u001b[39m\u001b[38;5;132;01m%s\u001b[39;00m\u001b[38;5;124m.\u001b[39m\u001b[38;5;124m\"\u001b[39m\n\u001b[0;32m    817\u001b[0m             \u001b[38;5;241m%\u001b[39m (n_features, array\u001b[38;5;241m.\u001b[39mshape, ensure_min_features, context)\n\u001b[0;32m    818\u001b[0m         )\n\u001b[0;32m    820\u001b[0m \u001b[38;5;28;01mif\u001b[39;00m copy \u001b[38;5;129;01mand\u001b[39;00m np\u001b[38;5;241m.\u001b[39mmay_share_memory(array, array_orig):\n\u001b[0;32m    821\u001b[0m     array \u001b[38;5;241m=\u001b[39m np\u001b[38;5;241m.\u001b[39marray(array, dtype\u001b[38;5;241m=\u001b[39mdtype, order\u001b[38;5;241m=\u001b[39morder)\n",
                        "\u001b[1;31mValueError\u001b[0m: Found array with 0 feature(s) (shape=(1711, 0)) while a minimum of 1 is required by MinMaxScaler."
                    ]
                }
            ],
            "metadata": {}
        },
        {
            "cell_type": "code",
            "execution_count": null,
            "source": [
                "#train_data = training_data_len[0:training_data_len, :]\r\n",
                "##x_train = []\r\n",
                "#y_train = [] #target\r\n",
                "#for i in range(60, len(train_data)):\r\n",
                "    #x_train.append(train_data[i-60:i,0])\r\n",
                "    #y_train.append(train_data[i,0])\r\n",
                "    #if i<=60:\r\n",
                "        #print(x_train)\r\n",
                "        #print(y_train)\r\n",
                "        #print()"
            ],
            "outputs": [
                {
                    "output_type": "error",
                    "ename": "IndexError",
                    "evalue": "index 0 is out of bounds for axis 1 with size 0",
                    "traceback": [
                        "\u001b[1;31m---------------------------------------------------------------------------\u001b[0m",
                        "\u001b[1;31mIndexError\u001b[0m                                Traceback (most recent call last)",
                        "Input \u001b[1;32mIn [18]\u001b[0m, in \u001b[0;36m<module>\u001b[1;34m\u001b[0m\n\u001b[0;32m      3\u001b[0m y_train \u001b[38;5;241m=\u001b[39m [] \u001b[38;5;66;03m#target\u001b[39;00m\n\u001b[0;32m      4\u001b[0m \u001b[38;5;28;01mfor\u001b[39;00m i \u001b[38;5;129;01min\u001b[39;00m \u001b[38;5;28mrange\u001b[39m(\u001b[38;5;241m60\u001b[39m, \u001b[38;5;28mlen\u001b[39m(train_data)):\n\u001b[1;32m----> 5\u001b[0m     x_train\u001b[38;5;241m.\u001b[39mappend(\u001b[43mtrain_data\u001b[49m\u001b[43m[\u001b[49m\u001b[43mi\u001b[49m\u001b[38;5;241;43m-\u001b[39;49m\u001b[38;5;241;43m60\u001b[39;49m\u001b[43m:\u001b[49m\u001b[43mi\u001b[49m\u001b[43m,\u001b[49m\u001b[38;5;241;43m0\u001b[39;49m\u001b[43m]\u001b[49m)\n\u001b[0;32m      6\u001b[0m     y_train\u001b[38;5;241m.\u001b[39mappend(train_data[i,\u001b[38;5;241m0\u001b[39m])\n\u001b[0;32m      7\u001b[0m     \u001b[38;5;28;01mif\u001b[39;00m i\u001b[38;5;241m<\u001b[39m\u001b[38;5;241m=\u001b[39m\u001b[38;5;241m60\u001b[39m:\n",
                        "\u001b[1;31mIndexError\u001b[0m: index 0 is out of bounds for axis 1 with size 0"
                    ]
                }
            ],
            "metadata": {}
        },
        {
            "cell_type": "code",
            "execution_count": null,
            "source": [
                "def create_dataset(dataset, time_step=1):\r\n",
                "    dataX, dataY = [], []\r\n",
                "    for i in range(len(dataset)-time_step-1):\r\n",
                "        a = dataset[i:(i+time_step, 0)]\r\n",
                "        dataX.append(a)\r\n",
                "        dataY.append(dataset[i+time_step, 0])\r\n",
                "        return np.array(dataX), np.array(dataY)\r\n",
                "        time_step = 100\r\n",
                "        X_train, y_train = create_dataset(train_data, time_step)\r\n",
                "        X_test, ytest = create_dataset(test_data, time_step)\r\n"
            ],
            "outputs": [],
            "metadata": {}
        }
    ],
    "metadata": {
        "orig_nbformat": 4,
        "language_info": {
            "name": "python",
            "version": "3.8.7",
            "mimetype": "text/x-python",
            "codemirror_mode": {
                "name": "ipython",
                "version": 3
            },
            "pygments_lexer": "ipython3",
            "nbconvert_exporter": "python",
            "file_extension": ".py"
        },
        "kernelspec": {
            "name": "python3",
            "display_name": "Python 3.8.7 64-bit"
        },
        "interpreter": {
            "hash": "1c9e25bbbfd4f73bc110039f9e87a23210654f6cad48e47014aa3bf849134c71"
        }
    },
    "nbformat": 4,
    "nbformat_minor": 2
}